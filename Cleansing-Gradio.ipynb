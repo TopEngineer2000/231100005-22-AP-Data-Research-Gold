{
 "cells": [
  {
   "cell_type": "code",
   "execution_count": 2,
   "id": "6f24d561-5695-4537-9abe-4db2807a4160",
   "metadata": {},
   "outputs": [
    {
     "name": "stdout",
     "output_type": "stream",
     "text": [
      "Running on local URL:  http://127.0.0.1:7861\n",
      "\n",
      "To create a public link, set `share=True` in `launch()`.\n"
     ]
    },
    {
     "data": {
      "text/html": [
       "<div><iframe src=\"http://127.0.0.1:7861/\" width=\"100%\" height=\"500\" allow=\"autoplay; camera; microphone; clipboard-read; clipboard-write;\" frameborder=\"0\" allowfullscreen></iframe></div>"
      ],
      "text/plain": [
       "<IPython.core.display.HTML object>"
      ]
     },
     "metadata": {},
     "output_type": "display_data"
    },
    {
     "data": {
      "text/plain": []
     },
     "execution_count": 2,
     "metadata": {},
     "output_type": "execute_result"
    }
   ],
   "source": [
    "import re\n",
    "import gradio as gr\n",
    "\n",
    "def data_processing(text):\n",
    "    text=re.sub(r'[^a-zA-Z0-9\\-]+', ' ', text),\n",
    "\n",
    "\n",
    "gradio_ui = gr.Interface(\n",
    "    fn=data_processing,\n",
    "    title=\"Data Processing Untuk Komentar Tweeter\",\n",
    "    description=\"API untuk data cleansing\",\n",
    "    inputs=gr.Textbox(label=\"Tulis Apa yang Anda Pikirkan Di Sini\",\n",
    "                      info=\"Initial Text\",\n",
    "                      lines=3),\n",
    "    outputs=gr.Textbox(label=\"Hasilnya\",\n",
    "                       info=\"Cleaned Text\",\n",
    "                       lines=3)\n",
    "\n",
    ")\n",
    "\n",
    "gradio_ui.launch()    "
   ]
  },
  {
   "cell_type": "code",
   "execution_count": null,
   "id": "66c2df71-498e-47c5-b0f4-5f3aec20e799",
   "metadata": {},
   "outputs": [],
   "source": []
  }
 ],
 "metadata": {
  "kernelspec": {
   "display_name": "Python 3 (ipykernel)",
   "language": "python",
   "name": "python3"
  },
  "language_info": {
   "codemirror_mode": {
    "name": "ipython",
    "version": 3
   },
   "file_extension": ".py",
   "mimetype": "text/x-python",
   "name": "python",
   "nbconvert_exporter": "python",
   "pygments_lexer": "ipython3",
   "version": "3.12.0"
  }
 },
 "nbformat": 4,
 "nbformat_minor": 5
}
